{
 "cells": [
  {
   "cell_type": "markdown",
   "metadata": {},
   "source": [
    "# FTTx Network visualizations - Part 1\n",
    "\n",
    "## Sankey as connection flow visualization\n",
    "\n",
    "   As a continuation of my series of visualizations in GPON networks today's post will explore how to use a __Sankey visualization__ to plot the flow of interconnections between an OLT (Optical Line Terminal) and several ODFs (Optical Distribution Frames) in a FTTx installation. Sankey diagrams are a powerful tool to visualize complex systems and processes, and they are particularly useful in showing the flow of energy, materials or information. By the end of this post, you will have a better understanding of how to use Sankey diagrams to visualize the flow of interconnections in your FTTx installation and how to use them to identify areas of improvement.\n",
    "\n",
    "\n",
    "The inspiration and main code for today´s viz comes from a post by __Mattia Cinelli__ on [How to do a Sankey Plot in Python](https://medium.com/analytics-vidhya/how-to-do-a-sankey-plot-in-python-5298869f5e8e). In this post, the author uses the __Plotly__ library for visualizations.\n",
    "\n",
    "To get some context, the ODN is used to distribute the optical signal from the OLT PON port, to the final client's ONT (Optical Network Terminal) device, which allows the customer to enjoy triple play services at their homes, you can see a simple diagram [from Wikipedia](https://commons.wikimedia.org/wiki/File:GPON_topology.png):\n",
    "\n",
    "\n",
    "![FTTx ODN simple diagram](GPON_topology_wikipedia.png \"FTTx ODN simple diagram\")\n",
    "\n",
    "\n",
    "As seen in the image, the Inside plant (__GPON Network__) and Outside Plant (__FTTx Network__) have to \"come together\" somewhere, and that interconnection is very important for both networks, and sometimes, and in some teams its: \"Nobody's land\".\n",
    "\n",
    "The main goal of this article is that you get an overview of both the smoothness or lack of in the interconnections of both your networks, and how we'll use a __Sankey Plot__ as a proxy to visualize this phenomenon.\n",
    "\n",
    "\n",
    "## The data needed\n",
    "\n",
    "Now, to make this visualization, I'm going to suppose that you have the inventory information about each OLT, and it's PON port connection to an Outside Plant FTTx ODF (Optical Distribution Frame) on every CO (Central Office) of your network, with this you'll be able to reproduce the visualizations that I'll present here.\n",
    "\n",
    "This information, if you think about it, could be represent as __Edges__ in a __Graph__, having the OLT and the ODF as the __Nodes__ that this edge interconnect. So, to help us create a synthetic dataset, let’s use the Python library called __NetworkX__, which is very helpful when working with data that can be represented as a graph, you can check it here: [NetworkX documentation](https://networkx.org/documentation/stable/index.html)"
   ]
  },
  {
   "cell_type": "code",
   "execution_count": 7,
   "metadata": {},
   "outputs": [],
   "source": [
    "# Make all the imports needed\n",
    "import pandas as pd\n",
    "import numpy as np\n",
    "import matplotlib.pyplot as plt\n",
    "import random\n",
    "import os\n",
    "\n",
    "# For the graph utilities\n",
    "import networkx as nx"
   ]
  },
  {
   "cell_type": "markdown",
   "metadata": {},
   "source": [
    "Let’s create a dateset with the following columns:\n",
    "\n",
    "* OLT hostname and let’s call it OLT_HOSTNAME.\n",
    "* Outside Plant Access ODF name and let’s call it OSPA_NAME.\n",
    "* Interconnection optical jumper (between the OLT and the ODF) ID or name, and let’s call it CONECTION_ID.\n",
    "* The OLT slot and port numbers, which we'll call OLT_SLOT, OLT_PORT respectively.\n",
    "\n",
    "And to do this lets create a function that generates the __edges__ of our OLTs and ODFs interconnections:"
   ]
  },
  {
   "cell_type": "code",
   "execution_count": 2,
   "metadata": {},
   "outputs": [],
   "source": [
    "def create_interconnections(OLT_hostnames, OSPA_names, PORT_QTY, SLOTS, graph_generator = nx.Graph):\n",
    "    \"\"\"\n",
    "    Function that creates edges from synthetic information.\n",
    "    It receives:\n",
    "        * A list named \"OLT_hostnames\" that represent the OLT hostnames.\n",
    "        * A list named \"MC_ODF_names\" that represent the names of the ODFs.\n",
    "        * A int named \"PORT_QTY\" that represent the quantity of ports.\n",
    "        * A int named \"SLOTS\" that represent the quantity of slots.\n",
    "        \n",
    "    It returns a Pandas Dataframe that represents the edges as previously mentioned.\n",
    "    \"\"\"\n",
    "    # Creates a complete graph (Please check https://networkx.org/documentation/stable/reference/generators.html)\n",
    "    # for more graph generators.\n",
    "    G = nx.complete_graph(100)\n",
    "    for name in OLT_hostnames:\n",
    "        G.add_node(name, PORT_QTY = PORT_QTY, SLOTS = SLOTS)\n",
    "    for name in OSPA_NAME_names:\n",
    "        G.add_node(name, PORT_QTY = 256)\n",
    "    # Creates the edges as a list with the information from the graph\n",
    "    edges = []\n",
    "    for olt in OLT_hostnames:\n",
    "        for odf in OSPA_NAME_names:\n",
    "            if G.nodes[olt]['PORT_QTY'] > 0 and G.nodes[odf]['PORT_QTY'] > 0:\n",
    "                CONECTION_ID = random.randint(1, 100)\n",
    "                OLT_SLOT = random.randint(1, G.nodes[olt]['SLOTS'])\n",
    "                edges.append({'OLT_HOSTNAME':olt, 'OSPA_NAME':odf, 'CONECTION_ID':CONECTION_ID, 'OLT_SLOT':OLT_SLOT, 'OLT_PORT':16})\n",
    "                G.nodes[olt]['PORT_QTY'] -= 1\n",
    "                G.nodes[odf]['PORT_QTY'] -= 1\n",
    "\n",
    "    # Creates the Pandas Dataframe of the edges representation.\n",
    "    edges_df = pd.DataFrame(edges, columns=['OLT_HOSTNAME', 'OSPA_NAME', 'CONECTION_ID', 'OLT_SLOT', 'OLT_PORT'])\n",
    "    \n",
    "    return edges_df"
   ]
  },
  {
   "cell_type": "markdown",
   "metadata": {},
   "source": [
    "Now we can create the dataset, by using the newly created function.\n",
    "\n",
    "Lets use three OLTs and five ODFs:"
   ]
  },
  {
   "cell_type": "code",
   "execution_count": 3,
   "metadata": {},
   "outputs": [
    {
     "data": {
      "text/html": [
       "<div>\n",
       "<style scoped>\n",
       "    .dataframe tbody tr th:only-of-type {\n",
       "        vertical-align: middle;\n",
       "    }\n",
       "\n",
       "    .dataframe tbody tr th {\n",
       "        vertical-align: top;\n",
       "    }\n",
       "\n",
       "    .dataframe thead th {\n",
       "        text-align: right;\n",
       "    }\n",
       "</style>\n",
       "<table border=\"1\" class=\"dataframe\">\n",
       "  <thead>\n",
       "    <tr style=\"text-align: right;\">\n",
       "      <th></th>\n",
       "      <th>OLT_HOSTNAME</th>\n",
       "      <th>OSPA_NAME</th>\n",
       "      <th>CONECTION_ID</th>\n",
       "      <th>OLT_SLOT</th>\n",
       "      <th>OLT_PORT</th>\n",
       "    </tr>\n",
       "  </thead>\n",
       "  <tbody>\n",
       "    <tr>\n",
       "      <th>0</th>\n",
       "      <td>OLT1</td>\n",
       "      <td>ODF1</td>\n",
       "      <td>37</td>\n",
       "      <td>1</td>\n",
       "      <td>16</td>\n",
       "    </tr>\n",
       "    <tr>\n",
       "      <th>1</th>\n",
       "      <td>OLT1</td>\n",
       "      <td>ODF2</td>\n",
       "      <td>25</td>\n",
       "      <td>7</td>\n",
       "      <td>16</td>\n",
       "    </tr>\n",
       "    <tr>\n",
       "      <th>2</th>\n",
       "      <td>OLT1</td>\n",
       "      <td>ODF3</td>\n",
       "      <td>2</td>\n",
       "      <td>7</td>\n",
       "      <td>16</td>\n",
       "    </tr>\n",
       "    <tr>\n",
       "      <th>3</th>\n",
       "      <td>OLT1</td>\n",
       "      <td>ODF4</td>\n",
       "      <td>81</td>\n",
       "      <td>5</td>\n",
       "      <td>16</td>\n",
       "    </tr>\n",
       "    <tr>\n",
       "      <th>4</th>\n",
       "      <td>OLT1</td>\n",
       "      <td>ODF5</td>\n",
       "      <td>21</td>\n",
       "      <td>2</td>\n",
       "      <td>16</td>\n",
       "    </tr>\n",
       "    <tr>\n",
       "      <th>5</th>\n",
       "      <td>OLT2</td>\n",
       "      <td>ODF1</td>\n",
       "      <td>66</td>\n",
       "      <td>1</td>\n",
       "      <td>16</td>\n",
       "    </tr>\n",
       "    <tr>\n",
       "      <th>6</th>\n",
       "      <td>OLT2</td>\n",
       "      <td>ODF2</td>\n",
       "      <td>51</td>\n",
       "      <td>1</td>\n",
       "      <td>16</td>\n",
       "    </tr>\n",
       "    <tr>\n",
       "      <th>7</th>\n",
       "      <td>OLT2</td>\n",
       "      <td>ODF3</td>\n",
       "      <td>91</td>\n",
       "      <td>7</td>\n",
       "      <td>16</td>\n",
       "    </tr>\n",
       "    <tr>\n",
       "      <th>8</th>\n",
       "      <td>OLT2</td>\n",
       "      <td>ODF4</td>\n",
       "      <td>99</td>\n",
       "      <td>6</td>\n",
       "      <td>16</td>\n",
       "    </tr>\n",
       "    <tr>\n",
       "      <th>9</th>\n",
       "      <td>OLT2</td>\n",
       "      <td>ODF5</td>\n",
       "      <td>11</td>\n",
       "      <td>5</td>\n",
       "      <td>16</td>\n",
       "    </tr>\n",
       "    <tr>\n",
       "      <th>10</th>\n",
       "      <td>OLT3</td>\n",
       "      <td>ODF1</td>\n",
       "      <td>14</td>\n",
       "      <td>7</td>\n",
       "      <td>16</td>\n",
       "    </tr>\n",
       "    <tr>\n",
       "      <th>11</th>\n",
       "      <td>OLT3</td>\n",
       "      <td>ODF2</td>\n",
       "      <td>50</td>\n",
       "      <td>4</td>\n",
       "      <td>16</td>\n",
       "    </tr>\n",
       "    <tr>\n",
       "      <th>12</th>\n",
       "      <td>OLT3</td>\n",
       "      <td>ODF3</td>\n",
       "      <td>57</td>\n",
       "      <td>1</td>\n",
       "      <td>16</td>\n",
       "    </tr>\n",
       "    <tr>\n",
       "      <th>13</th>\n",
       "      <td>OLT3</td>\n",
       "      <td>ODF4</td>\n",
       "      <td>85</td>\n",
       "      <td>3</td>\n",
       "      <td>16</td>\n",
       "    </tr>\n",
       "    <tr>\n",
       "      <th>14</th>\n",
       "      <td>OLT3</td>\n",
       "      <td>ODF5</td>\n",
       "      <td>69</td>\n",
       "      <td>4</td>\n",
       "      <td>16</td>\n",
       "    </tr>\n",
       "  </tbody>\n",
       "</table>\n",
       "</div>"
      ],
      "text/plain": [
       "   OLT_HOSTNAME OSPA_NAME  CONECTION_ID  OLT_SLOT  OLT_PORT\n",
       "0          OLT1      ODF1            37         1        16\n",
       "1          OLT1      ODF2            25         7        16\n",
       "2          OLT1      ODF3             2         7        16\n",
       "3          OLT1      ODF4            81         5        16\n",
       "4          OLT1      ODF5            21         2        16\n",
       "5          OLT2      ODF1            66         1        16\n",
       "6          OLT2      ODF2            51         1        16\n",
       "7          OLT2      ODF3            91         7        16\n",
       "8          OLT2      ODF4            99         6        16\n",
       "9          OLT2      ODF5            11         5        16\n",
       "10         OLT3      ODF1            14         7        16\n",
       "11         OLT3      ODF2            50         4        16\n",
       "12         OLT3      ODF3            57         1        16\n",
       "13         OLT3      ODF4            85         3        16\n",
       "14         OLT3      ODF5            69         4        16"
      ]
     },
     "execution_count": 3,
     "metadata": {},
     "output_type": "execute_result"
    }
   ],
   "source": [
    "OLT_hostnames = [\"OLT1\", \"OLT2\", \"OLT3\"]\n",
    "OSPA_NAME_names = [\"ODF1\", \"ODF2\", \"ODF3\", \"ODF4\", \"ODF5\"]\n",
    "PORT_QTY = 16\n",
    "SLOTS = 8\n",
    "df = create_interconnections(OLT_hostnames, OSPA_NAME_names, PORT_QTY, SLOTS)\n",
    "df"
   ]
  },
  {
   "cell_type": "markdown",
   "metadata": {},
   "source": [
    "Your information should have roughly the same structure (although you might need to filter some columns in your data):\n",
    "\n",
    "* Several connections for each OLT to each or some ODFs.\n",
    "\n",
    "## Create the visualization\n",
    "\n",
    "Now, the fun and insightful part, create the visualization. As stated before, we'll use some code from a post by __Mattia Cinelli__, but we have to modify it, so let’s have a step by step explanation for this visualization, and you can review the code on each step when it is referenced:\n",
    "\n",
    " 1. As mentioned, each jumper, from one PON port on the OLT to one port on the ODF can be represented as an edge, and this obviously will follow your data and the way it was connected.\n",
    " 2. A __Sankey__ plot displays the total of connections between two nodes as a __flow__, and the width of this flow represents the quantity of connections.\n",
    " 3. The bulk of connections from one individual OLT to one individual ODF will be represented with one __FLOW__.\n",
    " 4. For this representation, we will need to count each individual connection, and assign it to its corresponding flow.\n",
    " 5. To the Sankey plot constructor we need to pass each node as an integer (not a string of the name), and of course, the value of each flow. So, to do this we will have to do some changes to the dataframe, which will result in a new a dataframe that will contain the data as integers.\n",
    " 6. For this we will need to create two new datafrmes, called __\"nodes_df\"__ which will contain the names of each individual node in a column named \"Label\", and another dataframe called __\"links_df\"__, which will have three columns, named: \"Source\", \"Target\", and \"Value\", that we will feed to the Sankey plot constructor.\n",
    " 7. We can see each row in the __\"links_df\"__ dataframe as a __Sankey__ plot __\"flow\"__, whith the column \"Value\" being the quantity of individual connections between each OLT and each ODF.\n",
    " 8. And finally, we feed both dataframes to the plot constructor via a dictionary called __\"data_trace\"__. For more information on how to build this plot, please refer to the post mentioned before.\n",
    " \n",
    "Below the whole code of the function:"
   ]
  },
  {
   "cell_type": "code",
   "execution_count": 12,
   "metadata": {},
   "outputs": [],
   "source": [
    "def sankey_from_df(df, if_save, picture_title):\n",
    "    \"\"\"\n",
    "    Function that creates a sankey image from a dataframe and filters the information based on\n",
    "    the name of an CO.\n",
    "    \n",
    "    This function is very specific for the given set of information.\n",
    "    \n",
    "    params:\n",
    "        \n",
    "        df -> pd.DataFrame : The Data frame that contains the information. It should contain the following columns:\n",
    "            * 'OLT_PLANTA': The name of the CO to filter, in the format \"SSSS\" (four letters).\n",
    "            * 'OLT_CODE': The name of the OLT, in the format \"SSSS_OLT_##\" (four letters, and two numbers).\n",
    "            * 'DGO - DistribuidorNombre','CONEXION': The name of the CAP (Cable de Acceso Primario). No\n",
    "            specific format.\n",
    "            \n",
    "        oc_to_filter -> str: The name of CO to filter.\n",
    "            \n",
    "    Outputs:\n",
    "    \n",
    "        The sankey plot and a png save.\n",
    "        \n",
    "    \n",
    "    \"\"\"\n",
    "\n",
    "    # and creates a new column named \"UNION\" that allows us to get the count of each individual \"conection\"\n",
    "    # Meaning OLT -> CAP (cuenta la cantidad de cruzadas)\n",
    "    df['UNION'] = df['OLT_HOSTNAME'] + '***' + df['OSPA_NAME']\n",
    "    df.dropna(subset=['CONECTION_ID'], inplace=True)\n",
    "\n",
    "    # Cerates a dictionary with keys as the conections, and the value of each conection.\n",
    "    values = df['UNION'].value_counts(dropna=False).keys().tolist()\n",
    "    counts = df['UNION'].value_counts(dropna=False).tolist()\n",
    "    sankey_flows = dict(zip(values, counts))\n",
    "    \n",
    "    # Creates a node as each individual OLT and ODF.\n",
    "    nodes_df = pd.DataFrame(df['OLT_HOSTNAME'].unique().tolist() + df['OSPA_NAME'].unique().tolist(), columns=['Label'])\n",
    "    \n",
    "    # Creates a dataframe in which each column can be viewed as a flow between each OLT and each ODF.\n",
    "    links_df = df.groupby(['UNION'])[['UNION']].count().rename(columns={'UNION':'Value'}).reset_index()\n",
    "    links_df['Source'] = links_df['UNION'].apply(lambda x: nodes_df[nodes_df['Label']==x.split('***')[0]].index.values).astype(int)\n",
    "    links_df['Target'] = links_df['UNION'].apply(lambda x: nodes_df[nodes_df['Label']==x.split('***')[1]].index.values).astype(int)\n",
    "    \n",
    "    # For more reference on the following block of code, please refer to the afore mentioned post.\n",
    "    data_trace = dict(\n",
    "        type='sankey',\n",
    "        domain = dict(\n",
    "          x =  [0,1],\n",
    "          y =  [0,1]\n",
    "        ),\n",
    "        orientation = \"h\",\n",
    "        valueformat = \".0f\",\n",
    "        node = dict(\n",
    "          pad = 10,\n",
    "          thickness = 30,\n",
    "          line = dict(\n",
    "            color = \"black\",\n",
    "            width = 1\n",
    "          ),\n",
    "          label =  nodes_df['Label'].dropna(axis=0, how='any'),\n",
    "        ),\n",
    "        link = dict(\n",
    "            source = links_df['Source'].dropna(axis=0, how='any'),\n",
    "            target = links_df['Target'].dropna(axis=0, how='any'),\n",
    "            value = links_df['Value'].dropna(axis=0, how='any'),\n",
    "      )\n",
    "    )\n",
    "    \n",
    "    layout =  dict(\n",
    "        title = \"{} Sankey Plot\".format(picture_title),\n",
    "        height = 772,\n",
    "        font = dict(\n",
    "          size = 13\n",
    "        ),    \n",
    "    )\n",
    "    \n",
    "    # Creates the actual plot\n",
    "    fig = go.Figure(dict(data=[data_trace], layout=layout))\n",
    "    iplot(fig, validate=False)\n",
    "\n",
    "    # Saves the plot in a PNG file if needed.\n",
    "    if if_save:\n",
    "        image_name = \"{}-Sankey.png\".format(picture_title)\n",
    "        image_path = os.path.join(image_name)\n",
    "        fig.write_image(image_path)"
   ]
  },
  {
   "cell_type": "markdown",
   "metadata": {},
   "source": [
    "Make some imports for necesary for the Sankey plot:"
   ]
  },
  {
   "cell_type": "code",
   "execution_count": 13,
   "metadata": {},
   "outputs": [
    {
     "data": {
      "text/html": [
       "        <script type=\"text/javascript\">\n",
       "        window.PlotlyConfig = {MathJaxConfig: 'local'};\n",
       "        if (window.MathJax && window.MathJax.Hub && window.MathJax.Hub.Config) {window.MathJax.Hub.Config({SVG: {font: \"STIX-Web\"}});}\n",
       "        if (typeof require !== 'undefined') {\n",
       "        require.undef(\"plotly\");\n",
       "        requirejs.config({\n",
       "            paths: {\n",
       "                'plotly': ['https://cdn.plot.ly/plotly-2.16.1.min']\n",
       "            }\n",
       "        });\n",
       "        require(['plotly'], function(Plotly) {\n",
       "            window._Plotly = Plotly;\n",
       "        });\n",
       "        }\n",
       "        </script>\n",
       "        "
      ]
     },
     "metadata": {},
     "output_type": "display_data"
    }
   ],
   "source": [
    "import plotly.graph_objects as go\n",
    "from plotly.offline import download_plotlyjs, init_notebook_mode, plot, iplot\n",
    "init_notebook_mode(connected=True)\n",
    "\n",
    "import itertools\n",
    "from itertools import chain"
   ]
  },
  {
   "cell_type": "markdown",
   "metadata": {},
   "source": [
    "And finally, lets plot the Sankey:"
   ]
  },
  {
   "cell_type": "code",
   "execution_count": 14,
   "metadata": {},
   "outputs": [
    {
     "data": {
      "application/vnd.plotly.v1+json": {
       "config": {
        "linkText": "Export to plot.ly",
        "plotlyServerURL": "https://plot.ly",
        "showLink": false
       },
       "data": [
        {
         "domain": {
          "x": [
           0,
           1
          ],
          "y": [
           0,
           1
          ]
         },
         "link": {
          "source": [
           0,
           0,
           0,
           0,
           0,
           1,
           1,
           1,
           1,
           1,
           2,
           2,
           2,
           2,
           2
          ],
          "target": [
           3,
           4,
           5,
           6,
           7,
           3,
           4,
           5,
           6,
           7,
           3,
           4,
           5,
           6,
           7
          ],
          "value": [
           1,
           1,
           1,
           1,
           1,
           1,
           1,
           1,
           1,
           1,
           1,
           1,
           1,
           1,
           1
          ]
         },
         "node": {
          "label": [
           "OLT1",
           "OLT2",
           "OLT3",
           "ODF1",
           "ODF2",
           "ODF3",
           "ODF4",
           "ODF5"
          ],
          "line": {
           "color": "black",
           "width": 1
          },
          "pad": 10,
          "thickness": 30
         },
         "orientation": "h",
         "type": "sankey",
         "valueformat": ".0f"
        }
       ],
       "layout": {
        "font": {
         "size": 13
        },
        "height": 772,
        "template": {
         "data": {
          "bar": [
           {
            "error_x": {
             "color": "#2a3f5f"
            },
            "error_y": {
             "color": "#2a3f5f"
            },
            "marker": {
             "line": {
              "color": "#E5ECF6",
              "width": 0.5
             },
             "pattern": {
              "fillmode": "overlay",
              "size": 10,
              "solidity": 0.2
             }
            },
            "type": "bar"
           }
          ],
          "barpolar": [
           {
            "marker": {
             "line": {
              "color": "#E5ECF6",
              "width": 0.5
             },
             "pattern": {
              "fillmode": "overlay",
              "size": 10,
              "solidity": 0.2
             }
            },
            "type": "barpolar"
           }
          ],
          "carpet": [
           {
            "aaxis": {
             "endlinecolor": "#2a3f5f",
             "gridcolor": "white",
             "linecolor": "white",
             "minorgridcolor": "white",
             "startlinecolor": "#2a3f5f"
            },
            "baxis": {
             "endlinecolor": "#2a3f5f",
             "gridcolor": "white",
             "linecolor": "white",
             "minorgridcolor": "white",
             "startlinecolor": "#2a3f5f"
            },
            "type": "carpet"
           }
          ],
          "choropleth": [
           {
            "colorbar": {
             "outlinewidth": 0,
             "ticks": ""
            },
            "type": "choropleth"
           }
          ],
          "contour": [
           {
            "colorbar": {
             "outlinewidth": 0,
             "ticks": ""
            },
            "colorscale": [
             [
              0,
              "#0d0887"
             ],
             [
              0.1111111111111111,
              "#46039f"
             ],
             [
              0.2222222222222222,
              "#7201a8"
             ],
             [
              0.3333333333333333,
              "#9c179e"
             ],
             [
              0.4444444444444444,
              "#bd3786"
             ],
             [
              0.5555555555555556,
              "#d8576b"
             ],
             [
              0.6666666666666666,
              "#ed7953"
             ],
             [
              0.7777777777777778,
              "#fb9f3a"
             ],
             [
              0.8888888888888888,
              "#fdca26"
             ],
             [
              1,
              "#f0f921"
             ]
            ],
            "type": "contour"
           }
          ],
          "contourcarpet": [
           {
            "colorbar": {
             "outlinewidth": 0,
             "ticks": ""
            },
            "type": "contourcarpet"
           }
          ],
          "heatmap": [
           {
            "colorbar": {
             "outlinewidth": 0,
             "ticks": ""
            },
            "colorscale": [
             [
              0,
              "#0d0887"
             ],
             [
              0.1111111111111111,
              "#46039f"
             ],
             [
              0.2222222222222222,
              "#7201a8"
             ],
             [
              0.3333333333333333,
              "#9c179e"
             ],
             [
              0.4444444444444444,
              "#bd3786"
             ],
             [
              0.5555555555555556,
              "#d8576b"
             ],
             [
              0.6666666666666666,
              "#ed7953"
             ],
             [
              0.7777777777777778,
              "#fb9f3a"
             ],
             [
              0.8888888888888888,
              "#fdca26"
             ],
             [
              1,
              "#f0f921"
             ]
            ],
            "type": "heatmap"
           }
          ],
          "heatmapgl": [
           {
            "colorbar": {
             "outlinewidth": 0,
             "ticks": ""
            },
            "colorscale": [
             [
              0,
              "#0d0887"
             ],
             [
              0.1111111111111111,
              "#46039f"
             ],
             [
              0.2222222222222222,
              "#7201a8"
             ],
             [
              0.3333333333333333,
              "#9c179e"
             ],
             [
              0.4444444444444444,
              "#bd3786"
             ],
             [
              0.5555555555555556,
              "#d8576b"
             ],
             [
              0.6666666666666666,
              "#ed7953"
             ],
             [
              0.7777777777777778,
              "#fb9f3a"
             ],
             [
              0.8888888888888888,
              "#fdca26"
             ],
             [
              1,
              "#f0f921"
             ]
            ],
            "type": "heatmapgl"
           }
          ],
          "histogram": [
           {
            "marker": {
             "pattern": {
              "fillmode": "overlay",
              "size": 10,
              "solidity": 0.2
             }
            },
            "type": "histogram"
           }
          ],
          "histogram2d": [
           {
            "colorbar": {
             "outlinewidth": 0,
             "ticks": ""
            },
            "colorscale": [
             [
              0,
              "#0d0887"
             ],
             [
              0.1111111111111111,
              "#46039f"
             ],
             [
              0.2222222222222222,
              "#7201a8"
             ],
             [
              0.3333333333333333,
              "#9c179e"
             ],
             [
              0.4444444444444444,
              "#bd3786"
             ],
             [
              0.5555555555555556,
              "#d8576b"
             ],
             [
              0.6666666666666666,
              "#ed7953"
             ],
             [
              0.7777777777777778,
              "#fb9f3a"
             ],
             [
              0.8888888888888888,
              "#fdca26"
             ],
             [
              1,
              "#f0f921"
             ]
            ],
            "type": "histogram2d"
           }
          ],
          "histogram2dcontour": [
           {
            "colorbar": {
             "outlinewidth": 0,
             "ticks": ""
            },
            "colorscale": [
             [
              0,
              "#0d0887"
             ],
             [
              0.1111111111111111,
              "#46039f"
             ],
             [
              0.2222222222222222,
              "#7201a8"
             ],
             [
              0.3333333333333333,
              "#9c179e"
             ],
             [
              0.4444444444444444,
              "#bd3786"
             ],
             [
              0.5555555555555556,
              "#d8576b"
             ],
             [
              0.6666666666666666,
              "#ed7953"
             ],
             [
              0.7777777777777778,
              "#fb9f3a"
             ],
             [
              0.8888888888888888,
              "#fdca26"
             ],
             [
              1,
              "#f0f921"
             ]
            ],
            "type": "histogram2dcontour"
           }
          ],
          "mesh3d": [
           {
            "colorbar": {
             "outlinewidth": 0,
             "ticks": ""
            },
            "type": "mesh3d"
           }
          ],
          "parcoords": [
           {
            "line": {
             "colorbar": {
              "outlinewidth": 0,
              "ticks": ""
             }
            },
            "type": "parcoords"
           }
          ],
          "pie": [
           {
            "automargin": true,
            "type": "pie"
           }
          ],
          "scatter": [
           {
            "fillpattern": {
             "fillmode": "overlay",
             "size": 10,
             "solidity": 0.2
            },
            "type": "scatter"
           }
          ],
          "scatter3d": [
           {
            "line": {
             "colorbar": {
              "outlinewidth": 0,
              "ticks": ""
             }
            },
            "marker": {
             "colorbar": {
              "outlinewidth": 0,
              "ticks": ""
             }
            },
            "type": "scatter3d"
           }
          ],
          "scattercarpet": [
           {
            "marker": {
             "colorbar": {
              "outlinewidth": 0,
              "ticks": ""
             }
            },
            "type": "scattercarpet"
           }
          ],
          "scattergeo": [
           {
            "marker": {
             "colorbar": {
              "outlinewidth": 0,
              "ticks": ""
             }
            },
            "type": "scattergeo"
           }
          ],
          "scattergl": [
           {
            "marker": {
             "colorbar": {
              "outlinewidth": 0,
              "ticks": ""
             }
            },
            "type": "scattergl"
           }
          ],
          "scattermapbox": [
           {
            "marker": {
             "colorbar": {
              "outlinewidth": 0,
              "ticks": ""
             }
            },
            "type": "scattermapbox"
           }
          ],
          "scatterpolar": [
           {
            "marker": {
             "colorbar": {
              "outlinewidth": 0,
              "ticks": ""
             }
            },
            "type": "scatterpolar"
           }
          ],
          "scatterpolargl": [
           {
            "marker": {
             "colorbar": {
              "outlinewidth": 0,
              "ticks": ""
             }
            },
            "type": "scatterpolargl"
           }
          ],
          "scatterternary": [
           {
            "marker": {
             "colorbar": {
              "outlinewidth": 0,
              "ticks": ""
             }
            },
            "type": "scatterternary"
           }
          ],
          "surface": [
           {
            "colorbar": {
             "outlinewidth": 0,
             "ticks": ""
            },
            "colorscale": [
             [
              0,
              "#0d0887"
             ],
             [
              0.1111111111111111,
              "#46039f"
             ],
             [
              0.2222222222222222,
              "#7201a8"
             ],
             [
              0.3333333333333333,
              "#9c179e"
             ],
             [
              0.4444444444444444,
              "#bd3786"
             ],
             [
              0.5555555555555556,
              "#d8576b"
             ],
             [
              0.6666666666666666,
              "#ed7953"
             ],
             [
              0.7777777777777778,
              "#fb9f3a"
             ],
             [
              0.8888888888888888,
              "#fdca26"
             ],
             [
              1,
              "#f0f921"
             ]
            ],
            "type": "surface"
           }
          ],
          "table": [
           {
            "cells": {
             "fill": {
              "color": "#EBF0F8"
             },
             "line": {
              "color": "white"
             }
            },
            "header": {
             "fill": {
              "color": "#C8D4E3"
             },
             "line": {
              "color": "white"
             }
            },
            "type": "table"
           }
          ]
         },
         "layout": {
          "annotationdefaults": {
           "arrowcolor": "#2a3f5f",
           "arrowhead": 0,
           "arrowwidth": 1
          },
          "autotypenumbers": "strict",
          "coloraxis": {
           "colorbar": {
            "outlinewidth": 0,
            "ticks": ""
           }
          },
          "colorscale": {
           "diverging": [
            [
             0,
             "#8e0152"
            ],
            [
             0.1,
             "#c51b7d"
            ],
            [
             0.2,
             "#de77ae"
            ],
            [
             0.3,
             "#f1b6da"
            ],
            [
             0.4,
             "#fde0ef"
            ],
            [
             0.5,
             "#f7f7f7"
            ],
            [
             0.6,
             "#e6f5d0"
            ],
            [
             0.7,
             "#b8e186"
            ],
            [
             0.8,
             "#7fbc41"
            ],
            [
             0.9,
             "#4d9221"
            ],
            [
             1,
             "#276419"
            ]
           ],
           "sequential": [
            [
             0,
             "#0d0887"
            ],
            [
             0.1111111111111111,
             "#46039f"
            ],
            [
             0.2222222222222222,
             "#7201a8"
            ],
            [
             0.3333333333333333,
             "#9c179e"
            ],
            [
             0.4444444444444444,
             "#bd3786"
            ],
            [
             0.5555555555555556,
             "#d8576b"
            ],
            [
             0.6666666666666666,
             "#ed7953"
            ],
            [
             0.7777777777777778,
             "#fb9f3a"
            ],
            [
             0.8888888888888888,
             "#fdca26"
            ],
            [
             1,
             "#f0f921"
            ]
           ],
           "sequentialminus": [
            [
             0,
             "#0d0887"
            ],
            [
             0.1111111111111111,
             "#46039f"
            ],
            [
             0.2222222222222222,
             "#7201a8"
            ],
            [
             0.3333333333333333,
             "#9c179e"
            ],
            [
             0.4444444444444444,
             "#bd3786"
            ],
            [
             0.5555555555555556,
             "#d8576b"
            ],
            [
             0.6666666666666666,
             "#ed7953"
            ],
            [
             0.7777777777777778,
             "#fb9f3a"
            ],
            [
             0.8888888888888888,
             "#fdca26"
            ],
            [
             1,
             "#f0f921"
            ]
           ]
          },
          "colorway": [
           "#636efa",
           "#EF553B",
           "#00cc96",
           "#ab63fa",
           "#FFA15A",
           "#19d3f3",
           "#FF6692",
           "#B6E880",
           "#FF97FF",
           "#FECB52"
          ],
          "font": {
           "color": "#2a3f5f"
          },
          "geo": {
           "bgcolor": "white",
           "lakecolor": "white",
           "landcolor": "#E5ECF6",
           "showlakes": true,
           "showland": true,
           "subunitcolor": "white"
          },
          "hoverlabel": {
           "align": "left"
          },
          "hovermode": "closest",
          "mapbox": {
           "style": "light"
          },
          "paper_bgcolor": "white",
          "plot_bgcolor": "#E5ECF6",
          "polar": {
           "angularaxis": {
            "gridcolor": "white",
            "linecolor": "white",
            "ticks": ""
           },
           "bgcolor": "#E5ECF6",
           "radialaxis": {
            "gridcolor": "white",
            "linecolor": "white",
            "ticks": ""
           }
          },
          "scene": {
           "xaxis": {
            "backgroundcolor": "#E5ECF6",
            "gridcolor": "white",
            "gridwidth": 2,
            "linecolor": "white",
            "showbackground": true,
            "ticks": "",
            "zerolinecolor": "white"
           },
           "yaxis": {
            "backgroundcolor": "#E5ECF6",
            "gridcolor": "white",
            "gridwidth": 2,
            "linecolor": "white",
            "showbackground": true,
            "ticks": "",
            "zerolinecolor": "white"
           },
           "zaxis": {
            "backgroundcolor": "#E5ECF6",
            "gridcolor": "white",
            "gridwidth": 2,
            "linecolor": "white",
            "showbackground": true,
            "ticks": "",
            "zerolinecolor": "white"
           }
          },
          "shapedefaults": {
           "line": {
            "color": "#2a3f5f"
           }
          },
          "ternary": {
           "aaxis": {
            "gridcolor": "white",
            "linecolor": "white",
            "ticks": ""
           },
           "baxis": {
            "gridcolor": "white",
            "linecolor": "white",
            "ticks": ""
           },
           "bgcolor": "#E5ECF6",
           "caxis": {
            "gridcolor": "white",
            "linecolor": "white",
            "ticks": ""
           }
          },
          "title": {
           "x": 0.05
          },
          "xaxis": {
           "automargin": true,
           "gridcolor": "white",
           "linecolor": "white",
           "ticks": "",
           "title": {
            "standoff": 15
           },
           "zerolinecolor": "white",
           "zerolinewidth": 2
          },
          "yaxis": {
           "automargin": true,
           "gridcolor": "white",
           "linecolor": "white",
           "ticks": "",
           "title": {
            "standoff": 15
           },
           "zerolinecolor": "white",
           "zerolinewidth": 2
          }
         }
        },
        "title": {
         "text": "OC 1 Sankey Plot"
        }
       }
      },
      "text/html": [
       "<div>                            <div id=\"e1c5ceaa-c282-48c6-b343-d57ac3d4cc5e\" class=\"plotly-graph-div\" style=\"height:772px; width:100%;\"></div>            <script type=\"text/javascript\">                require([\"plotly\"], function(Plotly) {                    window.PLOTLYENV=window.PLOTLYENV || {};                                    if (document.getElementById(\"e1c5ceaa-c282-48c6-b343-d57ac3d4cc5e\")) {                    Plotly.newPlot(                        \"e1c5ceaa-c282-48c6-b343-d57ac3d4cc5e\",                        [{\"domain\":{\"x\":[0,1],\"y\":[0,1]},\"link\":{\"source\":[0,0,0,0,0,1,1,1,1,1,2,2,2,2,2],\"target\":[3,4,5,6,7,3,4,5,6,7,3,4,5,6,7],\"value\":[1,1,1,1,1,1,1,1,1,1,1,1,1,1,1]},\"node\":{\"label\":[\"OLT1\",\"OLT2\",\"OLT3\",\"ODF1\",\"ODF2\",\"ODF3\",\"ODF4\",\"ODF5\"],\"line\":{\"color\":\"black\",\"width\":1},\"pad\":10,\"thickness\":30},\"orientation\":\"h\",\"valueformat\":\".0f\",\"type\":\"sankey\"}],                        {\"font\":{\"size\":13},\"height\":772,\"title\":{\"text\":\"OC 1 Sankey Plot\"},\"template\":{\"data\":{\"histogram2dcontour\":[{\"type\":\"histogram2dcontour\",\"colorbar\":{\"outlinewidth\":0,\"ticks\":\"\"},\"colorscale\":[[0.0,\"#0d0887\"],[0.1111111111111111,\"#46039f\"],[0.2222222222222222,\"#7201a8\"],[0.3333333333333333,\"#9c179e\"],[0.4444444444444444,\"#bd3786\"],[0.5555555555555556,\"#d8576b\"],[0.6666666666666666,\"#ed7953\"],[0.7777777777777778,\"#fb9f3a\"],[0.8888888888888888,\"#fdca26\"],[1.0,\"#f0f921\"]]}],\"choropleth\":[{\"type\":\"choropleth\",\"colorbar\":{\"outlinewidth\":0,\"ticks\":\"\"}}],\"histogram2d\":[{\"type\":\"histogram2d\",\"colorbar\":{\"outlinewidth\":0,\"ticks\":\"\"},\"colorscale\":[[0.0,\"#0d0887\"],[0.1111111111111111,\"#46039f\"],[0.2222222222222222,\"#7201a8\"],[0.3333333333333333,\"#9c179e\"],[0.4444444444444444,\"#bd3786\"],[0.5555555555555556,\"#d8576b\"],[0.6666666666666666,\"#ed7953\"],[0.7777777777777778,\"#fb9f3a\"],[0.8888888888888888,\"#fdca26\"],[1.0,\"#f0f921\"]]}],\"heatmap\":[{\"type\":\"heatmap\",\"colorbar\":{\"outlinewidth\":0,\"ticks\":\"\"},\"colorscale\":[[0.0,\"#0d0887\"],[0.1111111111111111,\"#46039f\"],[0.2222222222222222,\"#7201a8\"],[0.3333333333333333,\"#9c179e\"],[0.4444444444444444,\"#bd3786\"],[0.5555555555555556,\"#d8576b\"],[0.6666666666666666,\"#ed7953\"],[0.7777777777777778,\"#fb9f3a\"],[0.8888888888888888,\"#fdca26\"],[1.0,\"#f0f921\"]]}],\"heatmapgl\":[{\"type\":\"heatmapgl\",\"colorbar\":{\"outlinewidth\":0,\"ticks\":\"\"},\"colorscale\":[[0.0,\"#0d0887\"],[0.1111111111111111,\"#46039f\"],[0.2222222222222222,\"#7201a8\"],[0.3333333333333333,\"#9c179e\"],[0.4444444444444444,\"#bd3786\"],[0.5555555555555556,\"#d8576b\"],[0.6666666666666666,\"#ed7953\"],[0.7777777777777778,\"#fb9f3a\"],[0.8888888888888888,\"#fdca26\"],[1.0,\"#f0f921\"]]}],\"contourcarpet\":[{\"type\":\"contourcarpet\",\"colorbar\":{\"outlinewidth\":0,\"ticks\":\"\"}}],\"contour\":[{\"type\":\"contour\",\"colorbar\":{\"outlinewidth\":0,\"ticks\":\"\"},\"colorscale\":[[0.0,\"#0d0887\"],[0.1111111111111111,\"#46039f\"],[0.2222222222222222,\"#7201a8\"],[0.3333333333333333,\"#9c179e\"],[0.4444444444444444,\"#bd3786\"],[0.5555555555555556,\"#d8576b\"],[0.6666666666666666,\"#ed7953\"],[0.7777777777777778,\"#fb9f3a\"],[0.8888888888888888,\"#fdca26\"],[1.0,\"#f0f921\"]]}],\"surface\":[{\"type\":\"surface\",\"colorbar\":{\"outlinewidth\":0,\"ticks\":\"\"},\"colorscale\":[[0.0,\"#0d0887\"],[0.1111111111111111,\"#46039f\"],[0.2222222222222222,\"#7201a8\"],[0.3333333333333333,\"#9c179e\"],[0.4444444444444444,\"#bd3786\"],[0.5555555555555556,\"#d8576b\"],[0.6666666666666666,\"#ed7953\"],[0.7777777777777778,\"#fb9f3a\"],[0.8888888888888888,\"#fdca26\"],[1.0,\"#f0f921\"]]}],\"mesh3d\":[{\"type\":\"mesh3d\",\"colorbar\":{\"outlinewidth\":0,\"ticks\":\"\"}}],\"scatter\":[{\"fillpattern\":{\"fillmode\":\"overlay\",\"size\":10,\"solidity\":0.2},\"type\":\"scatter\"}],\"parcoords\":[{\"type\":\"parcoords\",\"line\":{\"colorbar\":{\"outlinewidth\":0,\"ticks\":\"\"}}}],\"scatterpolargl\":[{\"type\":\"scatterpolargl\",\"marker\":{\"colorbar\":{\"outlinewidth\":0,\"ticks\":\"\"}}}],\"bar\":[{\"error_x\":{\"color\":\"#2a3f5f\"},\"error_y\":{\"color\":\"#2a3f5f\"},\"marker\":{\"line\":{\"color\":\"#E5ECF6\",\"width\":0.5},\"pattern\":{\"fillmode\":\"overlay\",\"size\":10,\"solidity\":0.2}},\"type\":\"bar\"}],\"scattergeo\":[{\"type\":\"scattergeo\",\"marker\":{\"colorbar\":{\"outlinewidth\":0,\"ticks\":\"\"}}}],\"scatterpolar\":[{\"type\":\"scatterpolar\",\"marker\":{\"colorbar\":{\"outlinewidth\":0,\"ticks\":\"\"}}}],\"histogram\":[{\"marker\":{\"pattern\":{\"fillmode\":\"overlay\",\"size\":10,\"solidity\":0.2}},\"type\":\"histogram\"}],\"scattergl\":[{\"type\":\"scattergl\",\"marker\":{\"colorbar\":{\"outlinewidth\":0,\"ticks\":\"\"}}}],\"scatter3d\":[{\"type\":\"scatter3d\",\"line\":{\"colorbar\":{\"outlinewidth\":0,\"ticks\":\"\"}},\"marker\":{\"colorbar\":{\"outlinewidth\":0,\"ticks\":\"\"}}}],\"scattermapbox\":[{\"type\":\"scattermapbox\",\"marker\":{\"colorbar\":{\"outlinewidth\":0,\"ticks\":\"\"}}}],\"scatterternary\":[{\"type\":\"scatterternary\",\"marker\":{\"colorbar\":{\"outlinewidth\":0,\"ticks\":\"\"}}}],\"scattercarpet\":[{\"type\":\"scattercarpet\",\"marker\":{\"colorbar\":{\"outlinewidth\":0,\"ticks\":\"\"}}}],\"carpet\":[{\"aaxis\":{\"endlinecolor\":\"#2a3f5f\",\"gridcolor\":\"white\",\"linecolor\":\"white\",\"minorgridcolor\":\"white\",\"startlinecolor\":\"#2a3f5f\"},\"baxis\":{\"endlinecolor\":\"#2a3f5f\",\"gridcolor\":\"white\",\"linecolor\":\"white\",\"minorgridcolor\":\"white\",\"startlinecolor\":\"#2a3f5f\"},\"type\":\"carpet\"}],\"table\":[{\"cells\":{\"fill\":{\"color\":\"#EBF0F8\"},\"line\":{\"color\":\"white\"}},\"header\":{\"fill\":{\"color\":\"#C8D4E3\"},\"line\":{\"color\":\"white\"}},\"type\":\"table\"}],\"barpolar\":[{\"marker\":{\"line\":{\"color\":\"#E5ECF6\",\"width\":0.5},\"pattern\":{\"fillmode\":\"overlay\",\"size\":10,\"solidity\":0.2}},\"type\":\"barpolar\"}],\"pie\":[{\"automargin\":true,\"type\":\"pie\"}]},\"layout\":{\"autotypenumbers\":\"strict\",\"colorway\":[\"#636efa\",\"#EF553B\",\"#00cc96\",\"#ab63fa\",\"#FFA15A\",\"#19d3f3\",\"#FF6692\",\"#B6E880\",\"#FF97FF\",\"#FECB52\"],\"font\":{\"color\":\"#2a3f5f\"},\"hovermode\":\"closest\",\"hoverlabel\":{\"align\":\"left\"},\"paper_bgcolor\":\"white\",\"plot_bgcolor\":\"#E5ECF6\",\"polar\":{\"bgcolor\":\"#E5ECF6\",\"angularaxis\":{\"gridcolor\":\"white\",\"linecolor\":\"white\",\"ticks\":\"\"},\"radialaxis\":{\"gridcolor\":\"white\",\"linecolor\":\"white\",\"ticks\":\"\"}},\"ternary\":{\"bgcolor\":\"#E5ECF6\",\"aaxis\":{\"gridcolor\":\"white\",\"linecolor\":\"white\",\"ticks\":\"\"},\"baxis\":{\"gridcolor\":\"white\",\"linecolor\":\"white\",\"ticks\":\"\"},\"caxis\":{\"gridcolor\":\"white\",\"linecolor\":\"white\",\"ticks\":\"\"}},\"coloraxis\":{\"colorbar\":{\"outlinewidth\":0,\"ticks\":\"\"}},\"colorscale\":{\"sequential\":[[0.0,\"#0d0887\"],[0.1111111111111111,\"#46039f\"],[0.2222222222222222,\"#7201a8\"],[0.3333333333333333,\"#9c179e\"],[0.4444444444444444,\"#bd3786\"],[0.5555555555555556,\"#d8576b\"],[0.6666666666666666,\"#ed7953\"],[0.7777777777777778,\"#fb9f3a\"],[0.8888888888888888,\"#fdca26\"],[1.0,\"#f0f921\"]],\"sequentialminus\":[[0.0,\"#0d0887\"],[0.1111111111111111,\"#46039f\"],[0.2222222222222222,\"#7201a8\"],[0.3333333333333333,\"#9c179e\"],[0.4444444444444444,\"#bd3786\"],[0.5555555555555556,\"#d8576b\"],[0.6666666666666666,\"#ed7953\"],[0.7777777777777778,\"#fb9f3a\"],[0.8888888888888888,\"#fdca26\"],[1.0,\"#f0f921\"]],\"diverging\":[[0,\"#8e0152\"],[0.1,\"#c51b7d\"],[0.2,\"#de77ae\"],[0.3,\"#f1b6da\"],[0.4,\"#fde0ef\"],[0.5,\"#f7f7f7\"],[0.6,\"#e6f5d0\"],[0.7,\"#b8e186\"],[0.8,\"#7fbc41\"],[0.9,\"#4d9221\"],[1,\"#276419\"]]},\"xaxis\":{\"gridcolor\":\"white\",\"linecolor\":\"white\",\"ticks\":\"\",\"title\":{\"standoff\":15},\"zerolinecolor\":\"white\",\"automargin\":true,\"zerolinewidth\":2},\"yaxis\":{\"gridcolor\":\"white\",\"linecolor\":\"white\",\"ticks\":\"\",\"title\":{\"standoff\":15},\"zerolinecolor\":\"white\",\"automargin\":true,\"zerolinewidth\":2},\"scene\":{\"xaxis\":{\"backgroundcolor\":\"#E5ECF6\",\"gridcolor\":\"white\",\"linecolor\":\"white\",\"showbackground\":true,\"ticks\":\"\",\"zerolinecolor\":\"white\",\"gridwidth\":2},\"yaxis\":{\"backgroundcolor\":\"#E5ECF6\",\"gridcolor\":\"white\",\"linecolor\":\"white\",\"showbackground\":true,\"ticks\":\"\",\"zerolinecolor\":\"white\",\"gridwidth\":2},\"zaxis\":{\"backgroundcolor\":\"#E5ECF6\",\"gridcolor\":\"white\",\"linecolor\":\"white\",\"showbackground\":true,\"ticks\":\"\",\"zerolinecolor\":\"white\",\"gridwidth\":2}},\"shapedefaults\":{\"line\":{\"color\":\"#2a3f5f\"}},\"annotationdefaults\":{\"arrowcolor\":\"#2a3f5f\",\"arrowhead\":0,\"arrowwidth\":1},\"geo\":{\"bgcolor\":\"white\",\"landcolor\":\"#E5ECF6\",\"subunitcolor\":\"white\",\"showland\":true,\"showlakes\":true,\"lakecolor\":\"white\"},\"title\":{\"x\":0.05},\"mapbox\":{\"style\":\"light\"}}}},                        {\"responsive\": true}                    ).then(function(){\n",
       "                            \n",
       "var gd = document.getElementById('e1c5ceaa-c282-48c6-b343-d57ac3d4cc5e');\n",
       "var x = new MutationObserver(function (mutations, observer) {{\n",
       "        var display = window.getComputedStyle(gd).display;\n",
       "        if (!display || display === 'none') {{\n",
       "            console.log([gd, 'removed!']);\n",
       "            Plotly.purge(gd);\n",
       "            observer.disconnect();\n",
       "        }}\n",
       "}});\n",
       "\n",
       "// Listen for the removal of the full notebook cells\n",
       "var notebookContainer = gd.closest('#notebook-container');\n",
       "if (notebookContainer) {{\n",
       "    x.observe(notebookContainer, {childList: true});\n",
       "}}\n",
       "\n",
       "// Listen for the clearing of the current output cell\n",
       "var outputEl = gd.closest('.output');\n",
       "if (outputEl) {{\n",
       "    x.observe(outputEl, {childList: true});\n",
       "}}\n",
       "\n",
       "                        })                };                });            </script>        </div>"
      ]
     },
     "metadata": {},
     "output_type": "display_data"
    }
   ],
   "source": [
    "if_save = True\n",
    "picture_name = 'OC 1'\n",
    "sankey_from_df(df, if_save, picture_name)"
   ]
  },
  {
   "cell_type": "markdown",
   "metadata": {},
   "source": [
    "## Closing comments\n",
    "\n",
    "What kind of issues you might see in your plots:\n",
    "\n",
    "* The first thing to point out is that the plots you will get from your data, will look significantly more different than this one.\n",
    "* For starters, we used an auxiliary function from the library __\"NetworkX\"__ to create the edges, more specifically the graph constructor called __\"G = nx.complete_graph(100)\"__, which creates a fully connected graph, which means that all the nodes are connected to each other (but themselves).\n",
    "* Now what you might see in your plots will reflect how smooth or not your __\"FTTx\"__ network deploy in that specific Central Office.\n",
    "* More specific, you might see some ODFs receive most of the flows from most of the OLTs. This could mean that a particular ODF is connected to many Outside Plant cables.\n",
    "* Another thing you might see is the concentration of flows on a particular node.\n",
    "* And if you have a Central Office which might have got many FTTx deploy projects over a long period of time, the flows could be very chaotic. \n",
    "* This plot will surely help you identify crams in your network, or let you know how many COs are clean regarding their installation.\n",
    "\n",
    "Ultimately you will have a depper understanding in the relationships of the interconnections between your GPON and FTTx networks in a visual way, and in turn, could help you take better and more well-informed decision in your future Inside Plant deploy project design.\n",
    "\n",
    "I hope this was useful for you, and that you are looking forward for the next visualization!\n"
   ]
  }
 ],
 "metadata": {
  "kernelspec": {
   "display_name": "INFRACO_VENV",
   "language": "python",
   "name": "infraco_venv"
  },
  "language_info": {
   "codemirror_mode": {
    "name": "ipython",
    "version": 3
   },
   "file_extension": ".py",
   "mimetype": "text/x-python",
   "name": "python",
   "nbconvert_exporter": "python",
   "pygments_lexer": "ipython3",
   "version": "3.8.10"
  },
  "vscode": {
   "interpreter": {
    "hash": "6ef68d2b4b82ca11d49a27937f3a4e02c3ad280ee724a2a40857ff1cd885e5de"
   }
  }
 },
 "nbformat": 4,
 "nbformat_minor": 2
}
